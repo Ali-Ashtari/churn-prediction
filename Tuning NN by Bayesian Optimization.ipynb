{
 "cells": [
  {
   "cell_type": "markdown",
   "metadata": {},
   "source": [
    "# Introduction\n",
    "This notebook tries to get the gold medal for the assignment 1 of the Udemy course [Deep Learning A-Z™: Hands-On Artificial Neural Networks](https://www.udemy.com/deeplearning/learn/v4/overview). The goal is to predict a hypothetical bank's customer churn using deep neural networks. The metric is accuracy and the goal medal is considered as the accuracy of %86.\n",
    "\n",
    "I get the gold medal by using Bayesian optimization for hyper-parameter tuning! I use [Bayesian Optimization Package(https://github.com/fmfn/BayesianOptimization) developed by Fernando Nogueira. This is a simple and easy to use library. It does not have extensive functionality but gets the job done."
   ]
  },
  {
   "cell_type": "markdown",
   "metadata": {},
   "source": [
    "# Preprocessing"
   ]
  },
  {
   "cell_type": "code",
   "execution_count": null,
   "metadata": {
    "collapsed": true
   },
   "outputs": [],
   "source": [
    "from bayes_opt import BayesianOptimization\n",
    "\n",
    "import numpy as np\n",
    "import pandas as pd\n",
    "\n",
    "from tensorflow.contrib.keras.api.keras.wrappers.scikit_learn import KerasClassifier\n",
    "from tensorflow.contrib.keras.api.keras.models import Sequential\n",
    "from tensorflow.contrib.keras.api.keras.layers import Dense, Dropout\n",
    "\n",
    "from sklearn.model_selection import KFold\n",
    "from sklearn.preprocessing import StandardScaler\n",
    "from sklearn.metrics import confusion_matrix \n",
    "from sklearn.metrics import roc_auc_score \n",
    "from keras import optimizers\n",
    "\n",
    "from sklearn.preprocessing import LabelEncoder, OneHotEncoder\n",
    "# Importing the dataset\n",
    "dataset = pd.read_csv('Churn_Modelling.csv')\n",
    "X = dataset.iloc[:, 3:13].values\n",
    "y = dataset.iloc[:, 13].values\n",
    "    \n",
    "# Encoding categorical data\n",
    "labelencoder_X_1 = LabelEncoder()\n",
    "X[:, 1] = labelencoder_X_1.fit_transform(X[:, 1])\n",
    "labelencoder_X_2 = LabelEncoder()\n",
    "X[:, 2] = labelencoder_X_2.fit_transform(X[:, 2])\n",
    "onehotencoder = OneHotEncoder(categorical_features = [1])\n",
    "X = onehotencoder.fit_transform(X).toarray()\n",
    "X = X[:, 1:]"
   ]
  },
  {
   "cell_type": "markdown",
   "metadata": {},
   "source": [
    "# Tuning the neural net\n",
    "\n",
    "Below, I first build a three layer neural network with dropout. Then, I apply ten-fold cross validation and consider the mean accuracy as the performance of the neural net (as suggested by the course). Then, I write a wrapper function around it which iterates over the dropout rate, number of nodes in the hidden layer of the neural net and the number of training epochs.\n",
    "\n",
    "At the end, I call the Bayesian Optimization to find the optimal combination of these three parameters. With 35 iterations, I achieve a higher accuracy than the grid search used in the course. I also record some statistics for further analysis.\n",
    "\n",
    "Note that, I do not leave holdout data outside of the validation set to test for overfitting after the hyper-parameters are optimized. In a real scenario one should do that. Here, I wanted to be consistent with the course assignment and make the comparisons fair."
   ]
  },
  {
   "cell_type": "code",
   "execution_count": 5,
   "metadata": {},
   "outputs": [
    {
     "name": "stdout",
     "output_type": "stream",
     "text": [
      "\u001b[31mInitialization\u001b[0m\n",
      "\u001b[94m-----------------------------------------------------------------\u001b[0m\n",
      " Step |   Time |      Value |    epochs |   numnode |      rate | \n",
      "    1 | 08m13s | \u001b[35m   0.84590\u001b[0m | \u001b[32m 219.6872\u001b[0m | \u001b[32m  34.3066\u001b[0m | \u001b[32m   0.3388\u001b[0m | \n",
      "    2 | 16m26s | \u001b[35m   0.85700\u001b[0m | \u001b[32m 457.8105\u001b[0m | \u001b[32m  24.3926\u001b[0m | \u001b[32m   0.1331\u001b[0m | \n",
      "    3 | 11m40s | \u001b[35m   0.85970\u001b[0m | \u001b[32m 313.2659\u001b[0m | \u001b[32m  27.5608\u001b[0m | \u001b[32m   0.1618\u001b[0m | \n",
      "    4 | 14m44s |    0.84890 |  392.9170 |   26.9607 |    0.4086 | \n",
      "    5 | 34m36s |    0.85340 |  483.5588 |   60.8178 |    0.2652 | \n",
      "    6 | 34m47s |    0.85260 |  511.6062 |   78.3751 |    0.3037 | \n",
      "    7 | 17m25s |    0.85730 |  436.6475 |   33.6639 |    0.0884 | \n",
      "    8 | 32m08s |    0.85040 |  486.7652 |   69.1081 |    0.3408 | \n",
      "    9 | 10m36s |    0.85670 |  271.7737 |   26.1159 |    0.2540 | \n",
      "   10 | 121m30s |    0.84250 |  279.3741 |   92.3671 |    0.4087 | \n",
      "\u001b[31mBayesian Optimization\u001b[0m\n",
      "\u001b[94m-----------------------------------------------------------------\u001b[0m\n",
      " Step |   Time |      Value |    epochs |   numnode |      rate | \n",
      "   11 | 60m26s |    0.85660 |  599.3844 |  149.7240 |    0.1264 | \n",
      "   12 | 61m14s |    0.85320 |  599.7928 |  149.9821 |    0.0374 | \n",
      "   13 | 51m49s |    0.85490 |  599.4866 |    7.3298 |    0.1748 | \n",
      "   14 | 53m04s |    0.84790 |  599.4722 |    7.3341 |    0.2442 | \n",
      "   15 | 22m41s |    0.84880 |  200.5402 |  149.6255 |    0.1639 | \n",
      "   16 | 64m02s |    0.84630 |  599.5648 |  149.7138 |    0.0184 | \n",
      "   17 | 23m11s |    0.84850 |  200.1518 |  148.9379 |    0.1219 | \n",
      "   18 | 47m27s |    0.82300 |  599.9570 |    7.5578 |    0.4531 | \n",
      "   19 | 49m04s |    0.81090 |  200.1430 |  149.1638 |    0.4349 | \n",
      "   20 | 40m53s |    0.84590 |  599.9016 |    6.3476 |    0.1543 | \n",
      "   21 | 28m37s | \u001b[35m   0.86150\u001b[0m | \u001b[32m 599.5980\u001b[0m | \u001b[32m   6.1741\u001b[0m | \u001b[32m   0.0001\u001b[0m | \n",
      "   22 | 30m14s |    0.86110 |  599.9042 |    6.5549 |    0.0358 | \n",
      "   23 | 30m17s | \u001b[35m   0.86160\u001b[0m | \u001b[32m 599.1749\u001b[0m | \u001b[32m   7.2728\u001b[0m | \u001b[32m   0.0165\u001b[0m | \n",
      "   24 | 30m43s |    0.85050 |  599.8537 |    6.1058 |    0.1992 | \n",
      "   25 | 30m53s |    0.85980 |  599.4827 |    6.8365 |    0.0953 | \n",
      "   26 | 31m52s |    0.85720 |  599.6683 |    6.1052 |    0.0947 | \n",
      "   27 | 33m20s | \u001b[35m   0.86190\u001b[0m | \u001b[32m 599.9952\u001b[0m | \u001b[32m   6.3270\u001b[0m | \u001b[32m   0.0291\u001b[0m | \n",
      "   28 | 32m24s |    0.83910 |  599.1253 |    6.9660 |    0.2881 | \n",
      "   29 | 37m58s |    0.85260 |  599.9506 |  149.2745 |    0.2863 | \n",
      "   30 | 34m08s |    0.84920 |  599.8890 |    6.3460 |    0.2142 | \n",
      "   31 | 143m40s |    0.83590 |  599.8155 |    6.2800 |    0.3040 | \n",
      "   32 | 38m55s |    0.84830 |  599.5738 |  149.5740 |    0.4067 | \n",
      "   33 | 40m16s |    0.85480 |  599.7609 |  149.0597 |    0.0765 | \n",
      "   34 | 54m00s |    0.84060 |  599.5631 |    6.8188 |    0.2721 | \n",
      "   35 | 84m12s |    0.85310 |  599.8362 |  148.6054 |    0.0551 | \n"
     ]
    }
   ],
   "source": [
    "# Info to be saved from the experiment\n",
    "info = ['roc_mean', 'roc_std', 'acc_mean', 'acc_std', 'tp_mean', 'tp_std', 'tn_mean', 'tn_std', \n",
    "        'fp_mean', 'fp_std', 'fn_mean', 'fn_std', 'business_objective_mean', 'business_objective_std']\n",
    "df = pd.DataFrame(columns=info)\n",
    "\n",
    "def nncv(rate, num_node, epochs):\n",
    "            \n",
    "    def build_classifier():\n",
    "        classifier = Sequential()\n",
    "        classifier.add(Dense(units=num_node, kernel_initializer='uniform', activation='relu', input_dim=11))\n",
    "        classifier.add(Dropout(rate))\n",
    "        classifier.add(Dense(units=num_node, kernel_initializer='uniform', activation='relu'))\n",
    "        classifier.add(Dropout(rate))\n",
    "        classifier.add(Dense(units=1, kernel_initializer='uniform', activation='sigmoid'))\n",
    "        classifier.compile(optimizer='adam', loss= 'binary_crossentropy', metrics=['accuracy'])\n",
    "        return classifier\n",
    "            \n",
    "    kf = KFold(n_splits=10)\n",
    "    acc, roc, tp, tn, fp, fn, business_objective = [], [], [], [], [], [], []\n",
    "    reward_tp, reward_fp, reward_tn, reward_fn = 1, -1, 1, -1\n",
    "\n",
    "    epochs=int(epochs)\n",
    "    batch_size = 256\n",
    "    num_node = int(num_node)\n",
    "    decision_boundary = 0.5\n",
    "    \n",
    "    for train_index, test_index in kf.split(X):\n",
    "        \n",
    "        # Train, test, cross validate\n",
    "        X_train, X_test = X[train_index], X[test_index]\n",
    "        y_train, y_test = y[train_index], y[test_index]\n",
    "        sc = StandardScaler()\n",
    "        X_train = sc.fit_transform(X_train)\n",
    "        X_test = sc.transform(X_test)\n",
    "        classifier = KerasClassifier(build_fn=build_classifier, batch_size=batch_size, epochs=epochs)\n",
    "        classifier.fit(X_train, y_train, verbose = 0)\n",
    "        y_pred = classifier.predict(X_test, verbose = 0)\n",
    "        y_pred1 = (y_pred > decision_boundary)\n",
    "        cm = confusion_matrix(y_test, y_pred1)\n",
    "        \n",
    "        # Extracting stats\n",
    "        acc.append((cm[0,0]+cm[1,1])/cm.sum())\n",
    "        roc.append(roc_auc_score(y_test, y_pred))\n",
    "        tn.append(cm[0,0])\n",
    "        fn.append(cm[1,0])\n",
    "        fp.append(cm[0,1])\n",
    "        tp.append(cm[1,1])\n",
    "        business_objective.append(reward_tp*tp[-1]+ reward_fp*fp[-1]+ reward_tn*tn[-1]+ reward_fn*fn[-1])\n",
    "    df.loc[len(df)]=[np.mean(roc), np.std(roc), np.mean(acc), np.std(acc), np.mean(tp), \n",
    "                     np.std(tp), np.mean(tn), np.std(tn), np.mean(fp), np.std(fp),\n",
    "                     np.mean(tn), np.std(fn), np.mean(business_objective), np.std(business_objective)]  \n",
    "    objective = np.mean(acc)\n",
    "    return objective\n",
    "    \n",
    "gp_params = {'alpha': 1e-4}        \n",
    "nnBO = BayesianOptimization(nncv, {'rate': (0.0, 0.5), 'numnode': (6, 150), 'epochs': (200,600) })\n",
    "nnBO.maximize(init_points=10, n_iter=25, **gp_params)\n",
    "results = nnBO.res\n"
   ]
  },
  {
   "cell_type": "markdown",
   "metadata": {},
   "source": [
    "The code above took one and a half day to run!\n",
    "\n",
    "The optimum set of parameters found are 6 nodes, dropout rate of %2.9 and 599 epochs. These results are contrary to my original intuition. I thought bigger nets and higher dropout rate would be more optimal. On the other hand, this finding shows that Bayesian optimization for hyper parameter tuning can be very powerful. Indeed, as Geoffrey Hinton, replace the grad student by Bayesian optimization! "
   ]
  },
  {
   "cell_type": "code",
   "execution_count": 8,
   "metadata": {},
   "outputs": [
    {
     "data": {
      "text/html": [
       "<div>\n",
       "<style>\n",
       "    .dataframe thead tr:only-child th {\n",
       "        text-align: right;\n",
       "    }\n",
       "\n",
       "    .dataframe thead th {\n",
       "        text-align: left;\n",
       "    }\n",
       "\n",
       "    .dataframe tbody tr th {\n",
       "        vertical-align: top;\n",
       "    }\n",
       "</style>\n",
       "<table border=\"1\" class=\"dataframe\">\n",
       "  <thead>\n",
       "    <tr style=\"text-align: right;\">\n",
       "      <th></th>\n",
       "      <th>roc_mean</th>\n",
       "      <th>roc_std</th>\n",
       "      <th>acc_mean</th>\n",
       "      <th>acc_std</th>\n",
       "      <th>tp_mean</th>\n",
       "      <th>tp_std</th>\n",
       "      <th>tn_mean</th>\n",
       "      <th>tn_std</th>\n",
       "      <th>fp_mean</th>\n",
       "      <th>fp_std</th>\n",
       "      <th>fn_mean</th>\n",
       "      <th>fn_std</th>\n",
       "      <th>business_objective_mean</th>\n",
       "      <th>business_objective_std</th>\n",
       "    </tr>\n",
       "  </thead>\n",
       "  <tbody>\n",
       "    <tr>\n",
       "      <th>0</th>\n",
       "      <td>0.633705</td>\n",
       "      <td>0.016962</td>\n",
       "      <td>0.8459</td>\n",
       "      <td>0.008757</td>\n",
       "      <td>56.2</td>\n",
       "      <td>7.947327</td>\n",
       "      <td>789.7</td>\n",
       "      <td>10.383159</td>\n",
       "      <td>6.6</td>\n",
       "      <td>4.054627</td>\n",
       "      <td>789.7</td>\n",
       "      <td>10.012492</td>\n",
       "      <td>691.8</td>\n",
       "      <td>17.514565</td>\n",
       "    </tr>\n",
       "    <tr>\n",
       "      <th>1</th>\n",
       "      <td>0.685988</td>\n",
       "      <td>0.026926</td>\n",
       "      <td>0.8570</td>\n",
       "      <td>0.011515</td>\n",
       "      <td>80.9</td>\n",
       "      <td>12.275586</td>\n",
       "      <td>776.1</td>\n",
       "      <td>10.577807</td>\n",
       "      <td>20.2</td>\n",
       "      <td>5.455273</td>\n",
       "      <td>776.1</td>\n",
       "      <td>13.789851</td>\n",
       "      <td>714.0</td>\n",
       "      <td>23.030415</td>\n",
       "    </tr>\n",
       "    <tr>\n",
       "      <th>2</th>\n",
       "      <td>0.686585</td>\n",
       "      <td>0.015567</td>\n",
       "      <td>0.8597</td>\n",
       "      <td>0.009456</td>\n",
       "      <td>80.3</td>\n",
       "      <td>7.603289</td>\n",
       "      <td>779.4</td>\n",
       "      <td>11.297787</td>\n",
       "      <td>16.9</td>\n",
       "      <td>4.763402</td>\n",
       "      <td>779.4</td>\n",
       "      <td>9.921693</td>\n",
       "      <td>719.4</td>\n",
       "      <td>18.911372</td>\n",
       "    </tr>\n",
       "    <tr>\n",
       "      <th>3</th>\n",
       "      <td>0.643322</td>\n",
       "      <td>0.025576</td>\n",
       "      <td>0.8489</td>\n",
       "      <td>0.012988</td>\n",
       "      <td>60.2</td>\n",
       "      <td>10.824047</td>\n",
       "      <td>788.7</td>\n",
       "      <td>10.881636</td>\n",
       "      <td>7.6</td>\n",
       "      <td>4.630335</td>\n",
       "      <td>788.7</td>\n",
       "      <td>14.820594</td>\n",
       "      <td>697.8</td>\n",
       "      <td>25.976143</td>\n",
       "    </tr>\n",
       "    <tr>\n",
       "      <th>4</th>\n",
       "      <td>0.666425</td>\n",
       "      <td>0.022140</td>\n",
       "      <td>0.8534</td>\n",
       "      <td>0.010452</td>\n",
       "      <td>71.4</td>\n",
       "      <td>10.021976</td>\n",
       "      <td>782.0</td>\n",
       "      <td>10.421132</td>\n",
       "      <td>14.3</td>\n",
       "      <td>5.745433</td>\n",
       "      <td>782.0</td>\n",
       "      <td>12.554282</td>\n",
       "      <td>706.8</td>\n",
       "      <td>20.903588</td>\n",
       "    </tr>\n",
       "  </tbody>\n",
       "</table>\n",
       "</div>"
      ],
      "text/plain": [
       "   roc_mean   roc_std  acc_mean   acc_std  tp_mean     tp_std  tn_mean  \\\n",
       "0  0.633705  0.016962    0.8459  0.008757     56.2   7.947327    789.7   \n",
       "1  0.685988  0.026926    0.8570  0.011515     80.9  12.275586    776.1   \n",
       "2  0.686585  0.015567    0.8597  0.009456     80.3   7.603289    779.4   \n",
       "3  0.643322  0.025576    0.8489  0.012988     60.2  10.824047    788.7   \n",
       "4  0.666425  0.022140    0.8534  0.010452     71.4  10.021976    782.0   \n",
       "\n",
       "      tn_std  fp_mean    fp_std  fn_mean     fn_std  business_objective_mean  \\\n",
       "0  10.383159      6.6  4.054627    789.7  10.012492                    691.8   \n",
       "1  10.577807     20.2  5.455273    776.1  13.789851                    714.0   \n",
       "2  11.297787     16.9  4.763402    779.4   9.921693                    719.4   \n",
       "3  10.881636      7.6  4.630335    788.7  14.820594                    697.8   \n",
       "4  10.421132     14.3  5.745433    782.0  12.554282                    706.8   \n",
       "\n",
       "   business_objective_std  \n",
       "0               17.514565  \n",
       "1               23.030415  \n",
       "2               18.911372  \n",
       "3               25.976143  \n",
       "4               20.903588  "
      ]
     },
     "execution_count": 8,
     "metadata": {},
     "output_type": "execute_result"
    }
   ],
   "source": [
    "df.head()"
   ]
  },
  {
   "cell_type": "markdown",
   "metadata": {},
   "source": [
    "# Bias variance analysis\n",
    "We know the optimal parameters are optimal with regards to accuracy. How do they measure in terms of bias variance tradeoff. Let's compare all runs in with respect to this tradeoff:"
   ]
  },
  {
   "cell_type": "code",
   "execution_count": 22,
   "metadata": {},
   "outputs": [
    {
     "data": {
      "image/png": "[encoded data removed]",
      "text/plain": [
       "<matplotlib.figure.Figure at 0x2402d0668>"
      ]
     },
     "metadata": {},
     "output_type": "display_data"
    }
   ],
   "source": [
    "%matplotlib inline\n",
    "import matplotlib\n",
    "import matplotlib.pyplot as plt\n",
    "df.plot.scatter('acc_std', 'acc_mean')\n",
    "plt.scatter(df['acc_std'][df['acc_mean'].idxmax()], df['acc_mean'][df['acc_mean'].idxmax()], color = 'red')\n",
    "plt.legend(['All runs','Optimal run'])\n",
    "plt.xlabel('Standard deviation of accuracy (proxy for variance)')\n",
    "plt.ylabel('Mean of accuracy (proxy for bias)')\n",
    "plt.show()"
   ]
  },
  {
   "cell_type": "markdown",
   "metadata": {},
   "source": [
    "We can see that the optimal method in terms of accuracy is not bad in terms of variance either :) "
   ]
  },
  {
   "cell_type": "markdown",
   "metadata": {},
   "source": [
    "# Further analysis of the Bayesian optimizaiton  run\n",
    "What parameters does the Bayesian optimization try?"
   ]
  },
  {
   "cell_type": "code",
   "execution_count": 64,
   "metadata": {},
   "outputs": [
    {
     "data": {
      "image/png": "[encoded data removed]",
      "text/plain": [
       "<matplotlib.figure.Figure at 0x24530ee10>"
      ]
     },
     "metadata": {},
     "output_type": "display_data"
    }
   ],
   "source": [
    "ep, node, d_rate = [],[],[]\n",
    "for i in range(len(results['all']['params'])):\n",
    "    ep.append(results['all']['params'][i]['epochs'])\n",
    "    node.append(results['all']['params'][i]['numnode'])\n",
    "    d_rate.append(results['all']['params'][i]['rate'])\n",
    "plt.figure(1)\n",
    "plt.subplot(311)\n",
    "plt.plot(d_rate)\n",
    "plt.ylabel('dropout rate')\n",
    "plt.subplot(312)\n",
    "plt.plot(ep)\n",
    "plt.ylabel('epochs')\n",
    "plt.subplot(313)\n",
    "plt.plot(node)\n",
    "plt.ylabel('nodes')\n",
    "plt.xlabel('Iteration')\n",
    "plt.show()"
   ]
  },
  {
   "cell_type": "markdown",
   "metadata": {},
   "source": [
    "Seems like it tries extreme ends of the search space for nodes and epochs and more diverse values for the droput rate.\n",
    "Dropout is a regularization mechanism. Let's see if in our experiment, high dropout rates correspond to less variance: "
   ]
  },
  {
   "cell_type": "code",
   "execution_count": 63,
   "metadata": {},
   "outputs": [
    {
     "data": {
      "image/png": "[encoded data removed]",
      "text/plain": [
       "<matplotlib.figure.Figure at 0x2430d5470>"
      ]
     },
     "metadata": {},
     "output_type": "display_data"
    }
   ],
   "source": [
    "plt.scatter(d_rate, df['acc_std'].tolist()[10:])\n",
    "plt.ylabel('Standard deviation of accuracy')\n",
    "plt.xlabel('Dropout rate')\n",
    "plt.show()"
   ]
  },
  {
   "cell_type": "markdown",
   "metadata": {},
   "source": [
    "There does not seem to be such trend in this example."
   ]
  },
  {
   "cell_type": "markdown",
   "metadata": {},
   "source": [
    "# Conclusion\n",
    "Bayesian optimization used for neural net tuning can get you gold medals!"
   ]
  },
  {
   "cell_type": "code",
   "execution_count": null,
   "metadata": {
    "collapsed": true
   },
   "outputs": [],
   "source": []
  }
 ],
 "metadata": {
  "kernelspec": {
   "display_name": "Python 3",
   "language": "python",
   "name": "python3"
  },
  "language_info": {
   "codemirror_mode": {
    "name": "ipython",
    "version": 3
   },
   "file_extension": ".py",
   "mimetype": "text/x-python",
   "name": "python",
   "nbconvert_exporter": "python",
   "pygments_lexer": "ipython3",
   "version": "3.6.1"
  }
 },
 "nbformat": 4,
 "nbformat_minor": 2
}
